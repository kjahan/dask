{
 "cells": [
  {
   "cell_type": "markdown",
   "id": "6559b163",
   "metadata": {},
   "source": [
    "## Start Dask Client for Dashboard\n",
    "\n",
    "Starting the Dask Client is optional.  It will provide a dashboard which \n",
    "is useful to gain insight on the computation.  \n",
    "\n",
    "The link to the dashboard will become visible when you create the client below.  We recommend having it open on one side of your screen while using your notebook on the other side.  This can take some effort to arrange your windows, but seeing them both at the same is very useful when learning."
   ]
  },
  {
   "cell_type": "code",
   "execution_count": 1,
   "id": "577e5a68",
   "metadata": {},
   "outputs": [
    {
     "data": {
      "text/html": [
       "<table style=\"border: 2px solid white;\">\n",
       "<tr>\n",
       "<td style=\"vertical-align: top; border: 0px solid white\">\n",
       "<h3 style=\"text-align: left;\">Client</h3>\n",
       "<ul style=\"text-align: left; list-style: none; margin: 0; padding: 0;\">\n",
       "  <li><b>Scheduler: </b>inproc://192.168.0.20/36410/1</li>\n",
       "  <li><b>Dashboard: </b><a href='http://192.168.0.20:8787/status' target='_blank'>http://192.168.0.20:8787/status</a></li>\n",
       "</ul>\n",
       "</td>\n",
       "<td style=\"vertical-align: top; border: 0px solid white\">\n",
       "<h3 style=\"text-align: left;\">Cluster</h3>\n",
       "<ul style=\"text-align: left; list-style:none; margin: 0; padding: 0;\">\n",
       "  <li><b>Workers: </b>4</li>\n",
       "  <li><b>Cores: </b>16</li>\n",
       "  <li><b>Memory: </b>8.00 GB</li>\n",
       "</ul>\n",
       "</td>\n",
       "</tr>\n",
       "</table>"
      ],
      "text/plain": [
       "<Client: 'inproc://192.168.0.20/36410/1' processes=4 threads=16, memory=8.00 GB>"
      ]
     },
     "execution_count": 1,
     "metadata": {},
     "output_type": "execute_result"
    }
   ],
   "source": [
    "from dask.distributed import Client, progress\n",
    "client = Client(processes=False, threads_per_worker=4,\n",
    "                n_workers=4, memory_limit='2GB')\n",
    "client"
   ]
  },
  {
   "cell_type": "markdown",
   "id": "7fe35e14",
   "metadata": {},
   "source": [
    "## Create Random array in Dask"
   ]
  },
  {
   "cell_type": "code",
   "execution_count": null,
   "id": "95eed145",
   "metadata": {},
   "outputs": [],
   "source": [
    "import dask.array as da\n",
    "x = da.random.random((10000, 10000), chunks=(1000, 1000))\n",
    "x"
   ]
  },
  {
   "cell_type": "markdown",
   "id": "cd1159f5",
   "metadata": {},
   "source": [
    "## Use Numpy syntax as before"
   ]
  },
  {
   "cell_type": "code",
   "execution_count": null,
   "id": "1967f8cb",
   "metadata": {},
   "outputs": [],
   "source": [
    "y = x + x.T\n",
    "z = y[::2, 5000:].mean(axis=1)\n",
    "z"
   ]
  },
  {
   "cell_type": "markdown",
   "id": "5f5a4a26",
   "metadata": {},
   "source": [
    "Call `.compute()` when you want your result as a NumPy array."
   ]
  },
  {
   "cell_type": "code",
   "execution_count": null,
   "id": "0b0c9e00",
   "metadata": {},
   "outputs": [],
   "source": [
    "z.compute()"
   ]
  },
  {
   "cell_type": "markdown",
   "id": "95c8f3a2",
   "metadata": {},
   "source": [
    "## Time profiling"
   ]
  },
  {
   "cell_type": "code",
   "execution_count": null,
   "id": "de53e868",
   "metadata": {},
   "outputs": [],
   "source": [
    "%time y[0, 0].compute()"
   ]
  },
  {
   "cell_type": "code",
   "execution_count": null,
   "id": "1675c8ac",
   "metadata": {},
   "outputs": [],
   "source": [
    "%time y.sum().compute()"
   ]
  },
  {
   "cell_type": "markdown",
   "id": "9f470628",
   "metadata": {},
   "source": [
    "## Persist data in memory"
   ]
  },
  {
   "cell_type": "code",
   "execution_count": null,
   "id": "12af6a53",
   "metadata": {},
   "outputs": [],
   "source": [
    "y = y.persist()"
   ]
  },
  {
   "cell_type": "code",
   "execution_count": null,
   "id": "14969bc3",
   "metadata": {},
   "outputs": [],
   "source": [
    "%time y[0, 0].compute()"
   ]
  },
  {
   "cell_type": "code",
   "execution_count": null,
   "id": "2d44bc5b",
   "metadata": {},
   "outputs": [],
   "source": [
    "%time y.sum().compute()"
   ]
  },
  {
   "cell_type": "markdown",
   "id": "832d59c2",
   "metadata": {},
   "source": [
    "## Create random array in Numpy"
   ]
  },
  {
   "cell_type": "code",
   "execution_count": null,
   "id": "f676abf8",
   "metadata": {},
   "outputs": [],
   "source": [
    "import numpy as np\n",
    "x_ = np.random.random((10000, 10000))"
   ]
  },
  {
   "cell_type": "code",
   "execution_count": null,
   "id": "fa525559",
   "metadata": {},
   "outputs": [],
   "source": [
    "y_ = x_ + x_.T\n",
    "z_ = y_[::2, 5000:].mean(axis=1)"
   ]
  },
  {
   "cell_type": "code",
   "execution_count": null,
   "id": "eb67c480",
   "metadata": {},
   "outputs": [],
   "source": [
    "%time y_[0, 0]"
   ]
  },
  {
   "cell_type": "code",
   "execution_count": null,
   "id": "88333399",
   "metadata": {},
   "outputs": [],
   "source": [
    "%time y_.sum()"
   ]
  },
  {
   "cell_type": "markdown",
   "id": "49ca77f2",
   "metadata": {},
   "source": [
    "## Further Reading \n",
    "\n",
    "A more in-depth guide to working with Dask arrays can be found in the [dask tutorial](https://github.com/dask/dask-tutorial), notebook 03."
   ]
  }
 ],
 "metadata": {
  "kernelspec": {
   "display_name": "Python 3",
   "language": "python",
   "name": "python3"
  },
  "language_info": {
   "codemirror_mode": {
    "name": "ipython",
    "version": 3
   },
   "file_extension": ".py",
   "mimetype": "text/x-python",
   "name": "python",
   "nbconvert_exporter": "python",
   "pygments_lexer": "ipython3",
   "version": "3.6.12"
  }
 },
 "nbformat": 4,
 "nbformat_minor": 5
}
